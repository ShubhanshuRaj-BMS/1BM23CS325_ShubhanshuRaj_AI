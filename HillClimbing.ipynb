{
  "cells": [
    {
      "cell_type": "markdown",
      "metadata": {
        "id": "view-in-github",
        "colab_type": "text"
      },
      "source": [
        "<a href=\"https://colab.research.google.com/github/ShubhanshuRaj-BMS/1BM23CS325_ShubhanshuRaj_AI/blob/main/HillClimbing.ipynb\" target=\"_parent\"><img src=\"https://colab.research.google.com/assets/colab-badge.svg\" alt=\"Open In Colab\"/></a>"
      ]
    },
    {
      "cell_type": "code",
      "source": [
        "import random\n",
        "\n",
        "def cost(state):\n",
        "    \"\"\"Calculate the number of attacking pairs of queens in the current state.\"\"\"\n",
        "    attacking_pairs = 0\n",
        "    n = len(state)\n",
        "    for i in range(n):\n",
        "        for j in range(i + 1, n):\n",
        "            if state[i] == state[j] or abs(state[i] - state[j]) == abs(i - j):\n",
        "                attacking_pairs += 1\n",
        "    return attacking_pairs\n",
        "\n",
        "def print_board(state):\n",
        "    \"\"\"Represent the state as a 4x4 board.\"\"\"\n",
        "    n = len(state)\n",
        "    board = [['.' for _ in range(n)] for _ in range(n)]\n",
        "    for i in range(n):\n",
        "        board[state[i]][i] = 'Q'\n",
        "\n",
        "    for row in board:\n",
        "        print(\" \".join(row))\n",
        "\n",
        "def get_neighbors(state):\n",
        "    \"\"\"Generate all possible neighbors by swapping two queens.\"\"\"\n",
        "    neighbors = []\n",
        "    n = len(state)\n",
        "    for i in range(n):\n",
        "        for j in range(i + 1, n):\n",
        "            neighbor = list(state)\n",
        "            neighbor[i], neighbor[j] = neighbor[j], neighbor[i]  # Swap queens\n",
        "            neighbors.append(tuple(neighbor))\n",
        "    return neighbors\n",
        "\n",
        "def hill_climbing(initial_state):\n",
        "    \"\"\"Hill climbing algorithm to solve the N-Queens problem.\"\"\"\n",
        "    current = initial_state\n",
        "    print(f\"Initial state:\")\n",
        "    print_board(current)\n",
        "    print(f\"Cost: {cost(current)}\")\n",
        "    print('-' * 20)\n",
        "\n",
        "    while True:\n",
        "        neighbors = get_neighbors(current)\n",
        "        # Select the neighbor with the lowest cost\n",
        "        next_state = min(neighbors, key=lambda x: cost(x))\n",
        "        print(f\"Next state:\")\n",
        "        print_board(next_state)\n",
        "        print(f\"Cost: {cost(next_state)}\")\n",
        "        print('-' * 20)\n",
        "\n",
        "        if cost(next_state) >= cost(current):\n",
        "            # If no better state is found, return the current state as the solution\n",
        "            print(f\"Solution found:\")\n",
        "            print_board(current)\n",
        "            print(f\"Cost: {cost(current)}\")\n",
        "            return current\n",
        "        current = next_state\n",
        "\n",
        "if __name__ == \"__main__\":\n",
        "    # Initial state for 4-Queens, random placement\n",
        "    initial_state = (3, 1, 2, 0)  # Example initial state, where each index represents a column\n",
        "\n",
        "    # Run Hill Climbing algorithm\n",
        "    solution = hill_climbing(initial_state)\n",
        "print(\"Shubhanshu Raj 1BM23CS325\")"
      ],
      "metadata": {
        "id": "1IE_NKonAWqu",
        "outputId": "0fa0fb36-c229-4089-f8bf-5a63d908c2da",
        "colab": {
          "base_uri": "https://localhost:8080/"
        }
      },
      "execution_count": 5,
      "outputs": [
        {
          "output_type": "stream",
          "name": "stdout",
          "text": [
            "Initial state:\n",
            ". . . Q\n",
            ". Q . .\n",
            ". . Q .\n",
            "Q . . .\n",
            "Cost: 2\n",
            "--------------------\n",
            "Next state:\n",
            ". . . Q\n",
            "Q . . .\n",
            ". . Q .\n",
            ". Q . .\n",
            "Cost: 1\n",
            "--------------------\n",
            "Next state:\n",
            ". . Q .\n",
            "Q . . .\n",
            ". . . Q\n",
            ". Q . .\n",
            "Cost: 0\n",
            "--------------------\n",
            "Next state:\n",
            ". . Q .\n",
            ". Q . .\n",
            ". . . Q\n",
            "Q . . .\n",
            "Cost: 1\n",
            "--------------------\n",
            "Solution found:\n",
            ". . Q .\n",
            "Q . . .\n",
            ". . . Q\n",
            ". Q . .\n",
            "Cost: 0\n",
            "Shubhanshu Raj 1BM23CS325\n"
          ]
        }
      ]
    }
  ],
  "metadata": {
    "colab": {
      "name": "Welcome To Colab",
      "toc_visible": true,
      "provenance": [],
      "include_colab_link": true
    },
    "kernelspec": {
      "display_name": "Python 3",
      "name": "python3"
    }
  },
  "nbformat": 4,
  "nbformat_minor": 0
}